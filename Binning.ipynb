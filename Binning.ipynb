{
 "cells": [
  {
   "cell_type": "markdown",
   "id": "a9b85278-b8c1-41de-9686-4bd70f488bce",
   "metadata": {},
   "source": [
    "# 2D binning in x, Q2"
   ]
  },
  {
   "cell_type": "code",
   "execution_count": 16,
   "id": "e780c991-1cde-4d1c-8b4a-d06c40cf1810",
   "metadata": {},
   "outputs": [],
   "source": [
    "import pandas as pd\n",
    "import numpy as np\n",
    "import matplotlib.pyplot as plot\n",
    "data = pd.read_csv(\"./CLAS12_hadronic_and_partonic.csv\")\n",
    "\n",
    "# x and q2 2D binning\n",
    "x_q2_bins = np.array([\n",
    "    [0.12,1.62],#0\n",
    "    [0.21,1.77],#1\n",
    "    [0.16,2.19],#2\n",
    "    [0.26,2.22],#3\n",
    "    [0.2,2.73],#4\n",
    "    [0.32,2.82],#5\n",
    "    [0.29,3.76],#6\n",
    "    [0.39,3.8],#7\n",
    "    [0.46,3.8],#8\n",
    "    [0.398,5.1],#9\n",
    "    [0.5,5.1], #10\n",
    "    [0.42,5.9], #11\n",
    "    [0.59,7.5] #12\n",
    "])\n",
    "x_q2_edges = np.array([\n",
    "    [[0,0.182],[0,4.5]], # 0\n",
    "    [[0.182,1],[0,4.5]], #1\n",
    "    [[0,0.23],[4.5,5.6]], #2\n",
    "    [[0.23,1],[4.5,5.6]], #3\n",
    "    [[0,0.29],[5.6,7.6]], #4\n",
    "    [[0.29,1],[5.6,7.6]], #5\n",
    "    [[0,0.4],[7.6,25]], #6\n",
    "    [[0.4,0.476],[7.6,9]], #7\n",
    "    [[0.476,1],[7.6,9]], #8\n",
    "    [[0.4,0.48],[9,11.5]], #9\n",
    "    [[0.48,1],[9,11.5]], #10\n",
    "    [[0.4,0.52],[11.5,25]], #11\n",
    "    [[0.52,1],[11.5,25]], #12\n",
    "])\n",
    "\n",
    "# Bin centers\n",
    "z_bins_even = np.arange(0.15,0.9,0.1)\n",
    "pt_bins_even = np.arange(0.05,1.1,0.1)\n",
    "T_t_bins_even = np.arange(0.175,3.6,0.35)\n",
    "\n",
    "z_bin_edges = np.arange(0.15,0.9,0.1)\n",
    "z_bin_edges -= 0.05\n",
    "z_bin_edges = np.append(z_bin_edges, z_bin_edges[-1] + 0.1)\n",
    "\n",
    "pt_bin_edges = np.arange(0.05,1.1,0.1)\n",
    "pt_bin_edges -= 0.05\n",
    "pt_bin_edges = np.append(pt_bin_edges, pt_bin_edges[-1] + 0.1)\n",
    "\n",
    "T_t_bin_edges = np.arange(0.175,3.6,0.35)\n",
    "T_t_bin_edges -= 0.175\n",
    "T_t_bin_edges = np.append(T_t_bin_edges, T_t_bin_edges[-1] + 0.15)\n",
    "\n",
    "\n",
    "#loop over 2d bins\n",
    "df = {\n",
    "    'x' : [],\n",
    "    'Q' : [],\n",
    "    'z' : [],\n",
    "    'T_t' : [],\n",
    "    'R2' : []\n",
    "}\n",
    "size = 100\n",
    "\n",
    "for i in range(len(x_q2_edges)):\n",
    "    curr_x_q2_bin_centers = x_q2_bins[i]\n",
    "    curr_x_center = curr_x_q2_bin_centers[0]\n",
    "    curr_q2_center = curr_x_q2_bin_centers[1]\n",
    "    \n",
    "    curr_x_q2_bins = x_q2_edges[i]\n",
    "    curr_x_edges = curr_x_q2_bins[0]\n",
    "    curr_q2_edges = curr_x_q2_bins[1]\n",
    "    curr_q_edges = np.sqrt(curr_q2_edges)\n",
    "    for j in range(len(z_bins_even)):\n",
    "        curr_z_edges = np.array([z_bin_edges[j],z_bin_edges[j+1]])\n",
    "        curr_z_center = z_bins_even[j]\n",
    "        for k in range(len(T_t_bins_even)):\n",
    "            curr_T_t_center = T_t_bins_even[k]\n",
    "            curr_T_t_edges = np.array([T_t_bin_edges[k],T_t_bin_edges[k+1]])\n",
    "            filtered_data = data[((data['Q'] > curr_q_edges[0]) & (data['Q'] < curr_q_edges[1])) & \n",
    "                                 ((data['x'] > curr_x_edges[0]) & (data['x'] < curr_x_edges[1])) &\n",
    "                                 ((data['z'] > curr_z_edges[0]) & (data['z'] < curr_z_edges[1])) &\n",
    "                                 ((data['T_t'] > curr_T_t_edges[0]) & (data['T_t'] < curr_T_t_edges[1]))\n",
    "                                ]\n",
    "            if(len(filtered_data) < size * 2):\n",
    "                continue\n",
    "            samples = filtered_data.sample(n = size)\n",
    "            \n",
    "            # Do some calculations:\n",
    "            samples['R2'] = (samples['M_ki'] ** 2 ) / (samples['Q'] ** 2) #assuming kf = ki + q\n",
    "            df['R2'].append(samples.loc[:,'R2'].mean())\n",
    "            df['x'].append(curr_x_center)\n",
    "            df['Q'].append(np.sqrt(curr_q2_center))\n",
    "            df['z'].append(curr_z_center)\n",
    "            df['T_t'].append(curr_T_t_center)\n",
    "R2_df = pd.DataFrame(df)\n",
    "# R2_df.to_csv(\"R2_df.csv\")"
   ]
  },
  {
   "cell_type": "code",
   "execution_count": 17,
   "id": "25e2f470-8c41-4084-899b-7ae1f9ffa893",
   "metadata": {},
   "outputs": [
    {
     "data": {
      "text/plain": [
       "[Text(0, 0.5, 'Counts')]"
      ]
     },
     "execution_count": 17,
     "metadata": {},
     "output_type": "execute_result"
    },
    {
     "data": {
      "image/png": "[encoded data removed]",
      "text/plain": [
       "<Figure size 432x288 with 1 Axes>"
      ]
     },
     "metadata": {
      "needs_background": "light"
     },
     "output_type": "display_data"
    }
   ],
   "source": [
    "fig, axs = plot.subplots(1,1)\n",
    "fig.suptitle(\"R2 From new binning method\")\n",
    "axs.hist(R2_df['R2'])\n",
    "axs.set(xlabel = \"R2\")\n",
    "axs.set(ylabel = \"Counts\")"
   ]
  },
  {
   "cell_type": "markdown",
   "id": "9ac22880-6801-47f6-9b97-2c8620d782c5",
   "metadata": {},
   "source": [
    "# Uniform binnings for every variable"
   ]
  },
  {
   "cell_type": "code",
   "execution_count": 246,
   "id": "7671143c-9453-44c2-9e96-e6a710e5086f",
   "metadata": {},
   "outputs": [],
   "source": [
    "import pandas as pd\n",
    "import numpy as np\n",
    "import matplotlib.pyplot as plot\n",
    "data = pd.read_csv(\"./CLAS12_hadronic_and_partonic.csv\")\n",
    "\n",
    "# Bin centers\n",
    "x_bin_centers = np.arange(0,0.75,0.2)\n",
    "Q2_bin_centers = np.arange(1,9,1.5)\n",
    "z_bins_even = np.arange(0.15,0.85,0.1)\n",
    "pt_bins_even = np.arange(0.05,1.1,0.1)\n",
    "T_t_bins_even = np.arange(0.35,3.5,0.7)\n",
    "\n",
    "x_bin_edges = np.arange(0.1,0.75,0.2)\n",
    "x_bin_edges -= 0.1\n",
    "x_bin_edges = np.append(x_bin_edges, x_bin_edges[-1] + 0.2)\n",
    "\n",
    "Q2_bin_edges = np.arange(1,9,1.5,dtype = np.float64)\n",
    "Q2_bin_edges -= 0.75\n",
    "Q2_bin_edges = np.append(Q2_bin_edges, Q2_bin_edges[-1] + 1.5)\n",
    "\n",
    "z_bin_edges = np.arange(0.15,0.85,0.1)\n",
    "z_bin_edges -= 0.05\n",
    "z_bin_edges = np.append(z_bin_edges, z_bin_edges[-1] + 0.1)\n",
    "\n",
    "pt_bin_edges = np.arange(0.05,1.1,0.1)\n",
    "pt_bin_edges -= 0.05\n",
    "pt_bin_edges = np.append(pt_bin_edges, pt_bin_edges[-1] + 0.1)\n",
    "\n",
    "T_t_bin_edges = np.arange(0.35,3.5,0.7)\n",
    "T_t_bin_edges -= 0.35\n",
    "T_t_bin_edges = np.append(T_t_bin_edges, T_t_bin_edges[-1] + 0.7)"
   ]
  },
  {
   "cell_type": "code",
   "execution_count": 249,
   "id": "cf6bc970-d4d9-4d08-91c4-aba557d72e4d",
   "metadata": {},
   "outputs": [],
   "source": [
    "#loop over 2d bins\n",
    "df = {\n",
    "    'x' : [],\n",
    "    'Q' : [],\n",
    "    'z' : [],\n",
    "    'T_t' : [],\n",
    "    'R2' : []\n",
    "}\n",
    "size = 100\n",
    "x_empty_bins = []\n",
    "Q2_empty_bins = []\n",
    "z_empty_bins = []\n",
    "T_t_empty_bins = []\n",
    "total_empty_bins = 0\n",
    "total_bins = 0\n",
    "total_events = len(data)\n",
    "binned_events = 0\n",
    "\n",
    "for i in range(len(x_bin_centers)):\n",
    "    curr_x_center = x_bin_centers[i]\n",
    "    curr_x_edges = np.array([x_bin_edges[i],x_bin_edges[i+1]])\n",
    "    for j in range(len(Q2_bin_centers)):\n",
    "        curr_Q2_center = Q2_bin_centers[j]\n",
    "        curr_Q2_edges = np.array([Q2_bin_edges[j],Q2_bin_edges[j+1]])\n",
    "        curr_Q_center = np.sqrt(Q2_bin_centers[j])\n",
    "        curr_Q_edges = np.sqrt(np.array([Q2_bin_edges[j],Q2_bin_edges[j+1]]))\n",
    "        for k in range(len(z_bins_even)):\n",
    "            curr_z_edges = np.array([z_bin_edges[k],z_bin_edges[k+1]])\n",
    "            curr_z_center = z_bins_even[k]\n",
    "            for l in range(len(T_t_bins_even)):\n",
    "                curr_T_t_center = T_t_bins_even[l]\n",
    "                curr_T_t_edges = np.array([T_t_bin_edges[l],T_t_bin_edges[l+1]])\n",
    "                filtered_data = data[((data['Q'] > curr_Q_edges[0]) & (data['Q'] < curr_Q_edges[1])) & \n",
    "                                     ((data['x'] > curr_x_edges[0]) & (data['x'] < curr_x_edges[1])) &\n",
    "                                     ((data['z'] > curr_z_edges[0]) & (data['z'] < curr_z_edges[1])) &\n",
    "                                     ((data['T_t'] > curr_T_t_edges[0]) & (data['T_t'] < curr_T_t_edges[1]))\n",
    "                                    ]\n",
    "                binned_events += len(filtered_data)\n",
    "                total_bins += 1\n",
    "                if(len(filtered_data) == 0):\n",
    "                    total_empty_bins += 1\n",
    "                    x_empty_bins.append(curr_x_center)\n",
    "                    Q2_empty_bins.append(curr_Q2_center)\n",
    "                    T_t_empty_bins.append(curr_T_t_center)\n",
    "                    z_empty_bins.append(curr_z_center)\n",
    "                if(len(filtered_data) < size * 2):\n",
    "                    continue\n",
    "                samples = filtered_data.sample(n = size)\n",
    "                # Do some calculations:\n",
    "                samples['R2'] = (samples['M_ki'] ** 2 ) / (samples['Q'] ** 2) #assuming kf = ki + q\n",
    "                df['R2'].append(samples.loc[:,'R2'].mean())\n",
    "                df['x'].append(curr_x_center)\n",
    "                df['Q'].append(np.sqrt(curr_q2_center))\n",
    "                df['z'].append(curr_z_center)\n",
    "                df['T_t'].append(curr_T_t_center)\n",
    "R2_df = pd.DataFrame(df)\n",
    "missed_events = total_events - binned_events\n",
    "# R2_df.to_csv(\"R2_df.csv\")"
   ]
  },
  {
   "cell_type": "code",
   "execution_count": 250,
   "id": "f045e9b4-3c21-4702-9869-8bf91e48690f",
   "metadata": {},
   "outputs": [
    {
     "data": {
      "text/plain": [
       "[Text(0, 0.5, 'Counts')]"
      ]
     },
     "execution_count": 250,
     "metadata": {},
     "output_type": "execute_result"
    },
    {
     "data": {
      "image/png": "[encoded data removed]",
      "text/plain": [
       "<Figure size 432x288 with 1 Axes>"
      ]
     },
     "metadata": {
      "needs_background": "light"
     },
     "output_type": "display_data"
    }
   ],
   "source": [
    "fig, axs = plot.subplots(1,1)\n",
    "fig.suptitle(\"R2 From new binning method\")\n",
    "axs.hist(R2_df['R2'])\n",
    "axs.set(xlabel = \"R2\")\n",
    "axs.set(ylabel = \"Counts\")"
   ]
  },
  {
   "cell_type": "code",
   "execution_count": 251,
   "id": "cbcc5084-ba0b-4e4d-974f-ec3c90a07ae0",
   "metadata": {},
   "outputs": [
    {
     "name": "stdout",
     "output_type": "stream",
     "text": [
      "63.333333333333336% of bins are empty\n",
      "0.2679973200267997% of events are missed\n"
     ]
    }
   ],
   "source": [
    "print(f\"{100 * total_empty_bins / total_bins}% of bins are empty\")\n",
    "print(f\"{100 * missed_events / total_events}% of events are missed\")"
   ]
  },
  {
   "cell_type": "code",
   "execution_count": 252,
   "id": "e238eba1-1d35-49d7-82e9-1f7a8d8f8b09",
   "metadata": {},
   "outputs": [
    {
     "data": {
      "text/plain": [
       "[Text(0.5, 0, 'T_t'), Text(0, 0.5, 'Q2')]"
      ]
     },
     "execution_count": 252,
     "metadata": {},
     "output_type": "execute_result"
    },
    {
     "data": {
      "image/png": "[encoded data removed]",
      "text/plain": [
       "<Figure size 720x1008 with 6 Axes>"
      ]
     },
     "metadata": {
      "needs_background": "light"
     },
     "output_type": "display_data"
    }
   ],
   "source": [
    "fig, axs = plot.subplots(3,2, figsize = (10,14))\n",
    "fig.suptitle(\"Empty bin histograms\")\n",
    "axs[0,0].hist2d(x_empty_bins,Q2_empty_bins);\n",
    "axs[0,0].set(xlabel = \"x\", ylabel = \"Q2\")\n",
    "axs[1,0].hist2d(x_empty_bins,z_empty_bins);\n",
    "axs[1,0].set(xlabel = \"x\", ylabel = \"z\")\n",
    "axs[0,1].hist2d(z_empty_bins,Q2_empty_bins);\n",
    "axs[0,1].set(xlabel = \"z\", ylabel = \"Q2\")\n",
    "axs[1,1].hist2d(z_empty_bins,Q2_empty_bins);\n",
    "axs[1,1].set(xlabel = \"T_t\", ylabel = \"z\")\n",
    "axs[2,0].hist2d(z_empty_bins,Q2_empty_bins);\n",
    "axs[2,0].set(xlabel = \"x\", ylabel = \"T_t\")\n",
    "axs[2,1].hist2d(z_empty_bins,Q2_empty_bins);\n",
    "axs[2,1].set(xlabel = \"T_t\", ylabel = \"Q2\")"
   ]
  },
  {
   "cell_type": "code",
   "execution_count": null,
   "id": "783f3104-6e03-4f34-bf5c-10a2c69ed588",
   "metadata": {},
   "outputs": [],
   "source": []
  }
 ],
 "metadata": {
  "kernelspec": {
   "display_name": "Python 3",
   "language": "python",
   "name": "python3"
  },
  "language_info": {
   "codemirror_mode": {
    "name": "ipython",
    "version": 3
   },
   "file_extension": ".py",
   "mimetype": "text/x-python",
   "name": "python",
   "nbconvert_exporter": "python",
   "pygments_lexer": "ipython3",
   "version": "3.8.8"
  }
 },
 "nbformat": 4,
 "nbformat_minor": 5
}
